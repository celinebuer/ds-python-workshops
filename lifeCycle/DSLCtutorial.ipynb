{
 "cells": [
  {
   "cell_type": "code",
   "execution_count": null,
   "id": "80b5809c-4934-4c57-b4ee-e48ba9357ff2",
   "metadata": {},
   "outputs": [],
   "source": [
    "# Data Science Life Cycle "
   ]
  },
  {
   "cell_type": "code",
   "execution_count": 1,
   "id": "b28774c7-2b93-4382-9591-a151c84abc79",
   "metadata": {},
   "outputs": [],
   "source": [
    "import matplotlib # for importing image/plotting/etc\n",
    "import matplotlib.pyplot as plt # we are going to use abbreviation \n",
    "from matplotlib import image as img # for image importing\n",
    "import pandas as pd # for data import/data wrangling\n",
    "import seaborn as sns # for statistical visualization\n",
    "import statsmodels.api as sm # for statistical models\n",
    "from statsmodels.formula.api import ols"
   ]
  },
  {
   "cell_type": "code",
   "execution_count": 3,
   "id": "d66e183a-33b0-4a9a-8784-e7fd918c24e4",
   "metadata": {},
   "outputs": [],
   "source": [
    "# Import Data"
   ]
  },
  {
   "cell_type": "code",
   "execution_count": 2,
   "id": "f4520e8b-2da7-4f01-861c-ddda2c67f1aa",
   "metadata": {},
   "outputs": [],
   "source": [
    "flights = pd.read_csv('http://math.bu.edu/people/kolaczyk/datasets/nycflights.csv')"
   ]
  },
  {
   "cell_type": "code",
   "execution_count": 13,
   "id": "4b48250e-7999-488f-a149-bec3693a95be",
   "metadata": {},
   "outputs": [
    {
     "data": {
      "text/html": [
       "<div>\n",
       "<style scoped>\n",
       "    .dataframe tbody tr th:only-of-type {\n",
       "        vertical-align: middle;\n",
       "    }\n",
       "\n",
       "    .dataframe tbody tr th {\n",
       "        vertical-align: top;\n",
       "    }\n",
       "\n",
       "    .dataframe thead th {\n",
       "        text-align: right;\n",
       "    }\n",
       "</style>\n",
       "<table border=\"1\" class=\"dataframe\">\n",
       "  <thead>\n",
       "    <tr style=\"text-align: right;\">\n",
       "      <th></th>\n",
       "      <th>year</th>\n",
       "      <th>month</th>\n",
       "      <th>day</th>\n",
       "      <th>dep_time</th>\n",
       "      <th>sched_dep_time</th>\n",
       "      <th>dep_delay</th>\n",
       "      <th>arr_time</th>\n",
       "      <th>sched_arr_time</th>\n",
       "      <th>arr_delay</th>\n",
       "      <th>carrier</th>\n",
       "      <th>flight</th>\n",
       "      <th>tailnum</th>\n",
       "      <th>origin</th>\n",
       "      <th>dest</th>\n",
       "      <th>air_time</th>\n",
       "      <th>distance</th>\n",
       "      <th>hour</th>\n",
       "      <th>minute</th>\n",
       "      <th>time_hour</th>\n",
       "    </tr>\n",
       "  </thead>\n",
       "  <tbody>\n",
       "    <tr>\n",
       "      <th>0</th>\n",
       "      <td>2013</td>\n",
       "      <td>1</td>\n",
       "      <td>1</td>\n",
       "      <td>517.0</td>\n",
       "      <td>515</td>\n",
       "      <td>2.0</td>\n",
       "      <td>830.0</td>\n",
       "      <td>819</td>\n",
       "      <td>11.0</td>\n",
       "      <td>UA</td>\n",
       "      <td>1545</td>\n",
       "      <td>N14228</td>\n",
       "      <td>EWR</td>\n",
       "      <td>IAH</td>\n",
       "      <td>227.0</td>\n",
       "      <td>1400</td>\n",
       "      <td>5</td>\n",
       "      <td>15</td>\n",
       "      <td>2013-01-01 05:00:00</td>\n",
       "    </tr>\n",
       "    <tr>\n",
       "      <th>1</th>\n",
       "      <td>2013</td>\n",
       "      <td>1</td>\n",
       "      <td>1</td>\n",
       "      <td>533.0</td>\n",
       "      <td>529</td>\n",
       "      <td>4.0</td>\n",
       "      <td>850.0</td>\n",
       "      <td>830</td>\n",
       "      <td>20.0</td>\n",
       "      <td>UA</td>\n",
       "      <td>1714</td>\n",
       "      <td>N24211</td>\n",
       "      <td>LGA</td>\n",
       "      <td>IAH</td>\n",
       "      <td>227.0</td>\n",
       "      <td>1416</td>\n",
       "      <td>5</td>\n",
       "      <td>29</td>\n",
       "      <td>2013-01-01 05:00:00</td>\n",
       "    </tr>\n",
       "    <tr>\n",
       "      <th>2</th>\n",
       "      <td>2013</td>\n",
       "      <td>1</td>\n",
       "      <td>1</td>\n",
       "      <td>542.0</td>\n",
       "      <td>540</td>\n",
       "      <td>2.0</td>\n",
       "      <td>923.0</td>\n",
       "      <td>850</td>\n",
       "      <td>33.0</td>\n",
       "      <td>AA</td>\n",
       "      <td>1141</td>\n",
       "      <td>N619AA</td>\n",
       "      <td>JFK</td>\n",
       "      <td>MIA</td>\n",
       "      <td>160.0</td>\n",
       "      <td>1089</td>\n",
       "      <td>5</td>\n",
       "      <td>40</td>\n",
       "      <td>2013-01-01 05:00:00</td>\n",
       "    </tr>\n",
       "    <tr>\n",
       "      <th>3</th>\n",
       "      <td>2013</td>\n",
       "      <td>1</td>\n",
       "      <td>1</td>\n",
       "      <td>544.0</td>\n",
       "      <td>545</td>\n",
       "      <td>-1.0</td>\n",
       "      <td>1004.0</td>\n",
       "      <td>1022</td>\n",
       "      <td>-18.0</td>\n",
       "      <td>B6</td>\n",
       "      <td>725</td>\n",
       "      <td>N804JB</td>\n",
       "      <td>JFK</td>\n",
       "      <td>BQN</td>\n",
       "      <td>183.0</td>\n",
       "      <td>1576</td>\n",
       "      <td>5</td>\n",
       "      <td>45</td>\n",
       "      <td>2013-01-01 05:00:00</td>\n",
       "    </tr>\n",
       "    <tr>\n",
       "      <th>4</th>\n",
       "      <td>2013</td>\n",
       "      <td>1</td>\n",
       "      <td>1</td>\n",
       "      <td>554.0</td>\n",
       "      <td>600</td>\n",
       "      <td>-6.0</td>\n",
       "      <td>812.0</td>\n",
       "      <td>837</td>\n",
       "      <td>-25.0</td>\n",
       "      <td>DL</td>\n",
       "      <td>461</td>\n",
       "      <td>N668DN</td>\n",
       "      <td>LGA</td>\n",
       "      <td>ATL</td>\n",
       "      <td>116.0</td>\n",
       "      <td>762</td>\n",
       "      <td>6</td>\n",
       "      <td>0</td>\n",
       "      <td>2013-01-01 06:00:00</td>\n",
       "    </tr>\n",
       "  </tbody>\n",
       "</table>\n",
       "</div>"
      ],
      "text/plain": [
       "   year  month  day  dep_time  sched_dep_time  dep_delay  arr_time  \\\n",
       "0  2013      1    1     517.0             515        2.0     830.0   \n",
       "1  2013      1    1     533.0             529        4.0     850.0   \n",
       "2  2013      1    1     542.0             540        2.0     923.0   \n",
       "3  2013      1    1     544.0             545       -1.0    1004.0   \n",
       "4  2013      1    1     554.0             600       -6.0     812.0   \n",
       "\n",
       "   sched_arr_time  arr_delay carrier  flight tailnum origin dest  air_time  \\\n",
       "0             819       11.0      UA    1545  N14228    EWR  IAH     227.0   \n",
       "1             830       20.0      UA    1714  N24211    LGA  IAH     227.0   \n",
       "2             850       33.0      AA    1141  N619AA    JFK  MIA     160.0   \n",
       "3            1022      -18.0      B6     725  N804JB    JFK  BQN     183.0   \n",
       "4             837      -25.0      DL     461  N668DN    LGA  ATL     116.0   \n",
       "\n",
       "   distance  hour  minute            time_hour  \n",
       "0      1400     5      15  2013-01-01 05:00:00  \n",
       "1      1416     5      29  2013-01-01 05:00:00  \n",
       "2      1089     5      40  2013-01-01 05:00:00  \n",
       "3      1576     5      45  2013-01-01 05:00:00  \n",
       "4       762     6       0  2013-01-01 06:00:00  "
      ]
     },
     "execution_count": 13,
     "metadata": {},
     "output_type": "execute_result"
    }
   ],
   "source": [
    "flights.head()# check the first few lines of the data "
   ]
  },
  {
   "cell_type": "code",
   "execution_count": 14,
   "id": "ab3eea57-5e86-4ac0-aab9-f775e3c70e66",
   "metadata": {},
   "outputs": [
    {
     "name": "stdout",
     "output_type": "stream",
     "text": [
      "Object `flights.head # check what this function does` not found.\n"
     ]
    }
   ],
   "source": [
    "?flights.head # check what this function does"
   ]
  },
  {
   "cell_type": "code",
   "execution_count": 8,
   "id": "80544299-b5ff-41d6-b981-aa7be7e968c7",
   "metadata": {},
   "outputs": [
    {
     "data": {
      "text/html": [
       "<div>\n",
       "<style scoped>\n",
       "    .dataframe tbody tr th:only-of-type {\n",
       "        vertical-align: middle;\n",
       "    }\n",
       "\n",
       "    .dataframe tbody tr th {\n",
       "        vertical-align: top;\n",
       "    }\n",
       "\n",
       "    .dataframe thead th {\n",
       "        text-align: right;\n",
       "    }\n",
       "</style>\n",
       "<table border=\"1\" class=\"dataframe\">\n",
       "  <thead>\n",
       "    <tr style=\"text-align: right;\">\n",
       "      <th></th>\n",
       "      <th>year</th>\n",
       "      <th>month</th>\n",
       "      <th>day</th>\n",
       "      <th>dep_time</th>\n",
       "      <th>sched_dep_time</th>\n",
       "      <th>dep_delay</th>\n",
       "      <th>arr_time</th>\n",
       "      <th>sched_arr_time</th>\n",
       "      <th>arr_delay</th>\n",
       "      <th>carrier</th>\n",
       "      <th>flight</th>\n",
       "      <th>tailnum</th>\n",
       "      <th>origin</th>\n",
       "      <th>dest</th>\n",
       "      <th>air_time</th>\n",
       "      <th>distance</th>\n",
       "      <th>hour</th>\n",
       "      <th>minute</th>\n",
       "      <th>time_hour</th>\n",
       "    </tr>\n",
       "  </thead>\n",
       "  <tbody>\n",
       "    <tr>\n",
       "      <th>0</th>\n",
       "      <td>2013</td>\n",
       "      <td>1</td>\n",
       "      <td>1</td>\n",
       "      <td>517.0</td>\n",
       "      <td>515</td>\n",
       "      <td>2.0</td>\n",
       "      <td>830.0</td>\n",
       "      <td>819</td>\n",
       "      <td>11.0</td>\n",
       "      <td>UA</td>\n",
       "      <td>1545</td>\n",
       "      <td>N14228</td>\n",
       "      <td>EWR</td>\n",
       "      <td>IAH</td>\n",
       "      <td>227.0</td>\n",
       "      <td>1400</td>\n",
       "      <td>5</td>\n",
       "      <td>15</td>\n",
       "      <td>2013-01-01 05:00:00</td>\n",
       "    </tr>\n",
       "    <tr>\n",
       "      <th>1</th>\n",
       "      <td>2013</td>\n",
       "      <td>1</td>\n",
       "      <td>1</td>\n",
       "      <td>533.0</td>\n",
       "      <td>529</td>\n",
       "      <td>4.0</td>\n",
       "      <td>850.0</td>\n",
       "      <td>830</td>\n",
       "      <td>20.0</td>\n",
       "      <td>UA</td>\n",
       "      <td>1714</td>\n",
       "      <td>N24211</td>\n",
       "      <td>LGA</td>\n",
       "      <td>IAH</td>\n",
       "      <td>227.0</td>\n",
       "      <td>1416</td>\n",
       "      <td>5</td>\n",
       "      <td>29</td>\n",
       "      <td>2013-01-01 05:00:00</td>\n",
       "    </tr>\n",
       "    <tr>\n",
       "      <th>2</th>\n",
       "      <td>2013</td>\n",
       "      <td>1</td>\n",
       "      <td>1</td>\n",
       "      <td>542.0</td>\n",
       "      <td>540</td>\n",
       "      <td>2.0</td>\n",
       "      <td>923.0</td>\n",
       "      <td>850</td>\n",
       "      <td>33.0</td>\n",
       "      <td>AA</td>\n",
       "      <td>1141</td>\n",
       "      <td>N619AA</td>\n",
       "      <td>JFK</td>\n",
       "      <td>MIA</td>\n",
       "      <td>160.0</td>\n",
       "      <td>1089</td>\n",
       "      <td>5</td>\n",
       "      <td>40</td>\n",
       "      <td>2013-01-01 05:00:00</td>\n",
       "    </tr>\n",
       "  </tbody>\n",
       "</table>\n",
       "</div>"
      ],
      "text/plain": [
       "   year  month  day  dep_time  sched_dep_time  dep_delay  arr_time  \\\n",
       "0  2013      1    1     517.0             515        2.0     830.0   \n",
       "1  2013      1    1     533.0             529        4.0     850.0   \n",
       "2  2013      1    1     542.0             540        2.0     923.0   \n",
       "\n",
       "   sched_arr_time  arr_delay carrier  flight tailnum origin dest  air_time  \\\n",
       "0             819       11.0      UA    1545  N14228    EWR  IAH     227.0   \n",
       "1             830       20.0      UA    1714  N24211    LGA  IAH     227.0   \n",
       "2             850       33.0      AA    1141  N619AA    JFK  MIA     160.0   \n",
       "\n",
       "   distance  hour  minute            time_hour  \n",
       "0      1400     5      15  2013-01-01 05:00:00  \n",
       "1      1416     5      29  2013-01-01 05:00:00  \n",
       "2      1089     5      40  2013-01-01 05:00:00  "
      ]
     },
     "execution_count": 8,
     "metadata": {},
     "output_type": "execute_result"
    }
   ],
   "source": [
    "# to check first three \n",
    "flights.head(3)"
   ]
  },
  {
   "cell_type": "code",
   "execution_count": 15,
   "id": "8b8ef0e3-c90f-48f9-8881-da37f3993d65",
   "metadata": {},
   "outputs": [
    {
     "data": {
      "text/plain": [
       "(336776, 19)"
      ]
     },
     "execution_count": 15,
     "metadata": {},
     "output_type": "execute_result"
    }
   ],
   "source": [
    "flights.shape # shows size of data set // (# of rows, # of columns)"
   ]
  },
  {
   "cell_type": "code",
   "execution_count": 16,
   "id": "8087d4f1-a995-4922-8b3e-6a3b3d02b9cb",
   "metadata": {},
   "outputs": [
    {
     "data": {
      "text/plain": [
       "year                int64\n",
       "month               int64\n",
       "day                 int64\n",
       "dep_time          float64\n",
       "sched_dep_time      int64\n",
       "dep_delay         float64\n",
       "arr_time          float64\n",
       "sched_arr_time      int64\n",
       "arr_delay         float64\n",
       "carrier            object\n",
       "flight              int64\n",
       "tailnum            object\n",
       "origin             object\n",
       "dest               object\n",
       "air_time          float64\n",
       "distance            int64\n",
       "hour                int64\n",
       "minute              int64\n",
       "time_hour          object\n",
       "dtype: object"
      ]
     },
     "execution_count": 16,
     "metadata": {},
     "output_type": "execute_result"
    }
   ],
   "source": [
    "flights.dtypes # data type of each column ( as we can see for row 0, the time is written as 517.0 which translates to 5:17 )"
   ]
  },
  {
   "cell_type": "code",
   "execution_count": 12,
   "id": "4f777213-d1a5-4d83-8407-73bdce26b537",
   "metadata": {},
   "outputs": [],
   "source": [
    "# Access (a) specific column(s) and analyze it/them."
   ]
  },
  {
   "cell_type": "code",
   "execution_count": 17,
   "id": "b43f78cc-f779-4e8c-aac2-9d516c0c1cd2",
   "metadata": {},
   "outputs": [
    {
     "data": {
      "text/plain": [
       "0         EWR\n",
       "1         LGA\n",
       "2         JFK\n",
       "3         JFK\n",
       "4         LGA\n",
       "         ... \n",
       "336771    JFK\n",
       "336772    LGA\n",
       "336773    LGA\n",
       "336774    LGA\n",
       "336775    LGA\n",
       "Name: origin, Length: 336776, dtype: object"
      ]
     },
     "execution_count": 17,
     "metadata": {},
     "output_type": "execute_result"
    }
   ],
   "source": [
    "flights[\"origin\"] "
   ]
  },
  {
   "cell_type": "code",
   "execution_count": 18,
   "id": "6d19ab50-f1c0-4f82-960f-88efdb699558",
   "metadata": {},
   "outputs": [
    {
     "data": {
      "text/plain": [
       "array(['EWR', 'LGA', 'JFK'], dtype=object)"
      ]
     },
     "execution_count": 18,
     "metadata": {},
     "output_type": "execute_result"
    }
   ],
   "source": [
    "flights[\"origin\"].unique() # shows origins w/o repitition "
   ]
  },
  {
   "cell_type": "code",
   "execution_count": 19,
   "id": "77cb9632-cfd9-43bc-9c11-5d70a5cae261",
   "metadata": {},
   "outputs": [
    {
     "data": {
      "text/plain": [
       "(336776,)"
      ]
     },
     "execution_count": 19,
     "metadata": {},
     "output_type": "execute_result"
    }
   ],
   "source": [
    "flights[\"origin\"].shape # size"
   ]
  },
  {
   "cell_type": "code",
   "execution_count": 20,
   "id": "99b5fe01-c8ea-4be3-9dd7-fdd513c17b9d",
   "metadata": {},
   "outputs": [
    {
     "data": {
      "text/html": [
       "<div>\n",
       "<style scoped>\n",
       "    .dataframe tbody tr th:only-of-type {\n",
       "        vertical-align: middle;\n",
       "    }\n",
       "\n",
       "    .dataframe tbody tr th {\n",
       "        vertical-align: top;\n",
       "    }\n",
       "\n",
       "    .dataframe thead th {\n",
       "        text-align: right;\n",
       "    }\n",
       "</style>\n",
       "<table border=\"1\" class=\"dataframe\">\n",
       "  <thead>\n",
       "    <tr style=\"text-align: right;\">\n",
       "      <th></th>\n",
       "      <th>origin</th>\n",
       "    </tr>\n",
       "  </thead>\n",
       "  <tbody>\n",
       "    <tr>\n",
       "      <th>0</th>\n",
       "      <td>EWR</td>\n",
       "    </tr>\n",
       "    <tr>\n",
       "      <th>1</th>\n",
       "      <td>LGA</td>\n",
       "    </tr>\n",
       "    <tr>\n",
       "      <th>2</th>\n",
       "      <td>JFK</td>\n",
       "    </tr>\n",
       "    <tr>\n",
       "      <th>3</th>\n",
       "      <td>JFK</td>\n",
       "    </tr>\n",
       "    <tr>\n",
       "      <th>4</th>\n",
       "      <td>LGA</td>\n",
       "    </tr>\n",
       "    <tr>\n",
       "      <th>...</th>\n",
       "      <td>...</td>\n",
       "    </tr>\n",
       "    <tr>\n",
       "      <th>336771</th>\n",
       "      <td>JFK</td>\n",
       "    </tr>\n",
       "    <tr>\n",
       "      <th>336772</th>\n",
       "      <td>LGA</td>\n",
       "    </tr>\n",
       "    <tr>\n",
       "      <th>336773</th>\n",
       "      <td>LGA</td>\n",
       "    </tr>\n",
       "    <tr>\n",
       "      <th>336774</th>\n",
       "      <td>LGA</td>\n",
       "    </tr>\n",
       "    <tr>\n",
       "      <th>336775</th>\n",
       "      <td>LGA</td>\n",
       "    </tr>\n",
       "  </tbody>\n",
       "</table>\n",
       "<p>336776 rows × 1 columns</p>\n",
       "</div>"
      ],
      "text/plain": [
       "       origin\n",
       "0         EWR\n",
       "1         LGA\n",
       "2         JFK\n",
       "3         JFK\n",
       "4         LGA\n",
       "...       ...\n",
       "336771    JFK\n",
       "336772    LGA\n",
       "336773    LGA\n",
       "336774    LGA\n",
       "336775    LGA\n",
       "\n",
       "[336776 rows x 1 columns]"
      ]
     },
     "execution_count": 20,
     "metadata": {},
     "output_type": "execute_result"
    }
   ],
   "source": [
    "flights[[\"origin\"]] # double bracket displays differently, also showing number of rows and columns"
   ]
  },
  {
   "cell_type": "code",
   "execution_count": 21,
   "id": "c8b49b5f-30f1-467a-b71d-8c9d08d7a7ff",
   "metadata": {},
   "outputs": [
    {
     "data": {
      "text/plain": [
       "pandas.core.series.Series"
      ]
     },
     "execution_count": 21,
     "metadata": {},
     "output_type": "execute_result"
    }
   ],
   "source": [
    "# Using one pair of brackets vs two pairs of brackets resultin different types of objects\n",
    "\n",
    "type(flights[\"origin\"]) # Series: it's just like a one-dimensional array"
   ]
  },
  {
   "cell_type": "code",
   "execution_count": 22,
   "id": "fa253766-5c45-4cc4-a61d-1eeef6feb725",
   "metadata": {},
   "outputs": [
    {
     "data": {
      "text/plain": [
       "pandas.core.frame.DataFrame"
      ]
     },
     "execution_count": 22,
     "metadata": {},
     "output_type": "execute_result"
    }
   ],
   "source": [
    "type(flights[[\"origin\"]]) # Pandas DataFrame: two-dimensional tabular data"
   ]
  },
  {
   "cell_type": "code",
   "execution_count": 24,
   "id": "d3c346bd-ba47-4b88-8d9a-48e5c999be42",
   "metadata": {},
   "outputs": [
    {
     "ename": "AttributeError",
     "evalue": "'DataFrame' object has no attribute 'unique'",
     "output_type": "error",
     "traceback": [
      "\u001b[0;31m---------------------------------------------------------------------------\u001b[0m",
      "\u001b[0;31mAttributeError\u001b[0m                            Traceback (most recent call last)",
      "\u001b[0;32m/tmp/ipykernel_51/4008062257.py\u001b[0m in \u001b[0;36m?\u001b[0;34m()\u001b[0m\n\u001b[0;32m----> 1\u001b[0;31m \u001b[0mflights\u001b[0m\u001b[0;34m[\u001b[0m\u001b[0;34m[\u001b[0m\u001b[0;34m\"origin\"\u001b[0m\u001b[0;34m]\u001b[0m\u001b[0;34m]\u001b[0m\u001b[0;34m.\u001b[0m\u001b[0munique\u001b[0m\u001b[0;34m(\u001b[0m\u001b[0;34m)\u001b[0m \u001b[0;31m# unique method can only be used for Series type of objects, not the data frame objects\u001b[0m\u001b[0;34m\u001b[0m\u001b[0;34m\u001b[0m\u001b[0m\n\u001b[0m",
      "\u001b[0;32m/opt/conda/lib/python3.12/site-packages/pandas/core/generic.py\u001b[0m in \u001b[0;36m?\u001b[0;34m(self, name)\u001b[0m\n\u001b[1;32m   6295\u001b[0m             \u001b[0;32mand\u001b[0m \u001b[0mname\u001b[0m \u001b[0;32mnot\u001b[0m \u001b[0;32min\u001b[0m \u001b[0mself\u001b[0m\u001b[0;34m.\u001b[0m\u001b[0m_accessors\u001b[0m\u001b[0;34m\u001b[0m\u001b[0;34m\u001b[0m\u001b[0m\n\u001b[1;32m   6296\u001b[0m             \u001b[0;32mand\u001b[0m \u001b[0mself\u001b[0m\u001b[0;34m.\u001b[0m\u001b[0m_info_axis\u001b[0m\u001b[0;34m.\u001b[0m\u001b[0m_can_hold_identifiers_and_holds_name\u001b[0m\u001b[0;34m(\u001b[0m\u001b[0mname\u001b[0m\u001b[0;34m)\u001b[0m\u001b[0;34m\u001b[0m\u001b[0;34m\u001b[0m\u001b[0m\n\u001b[1;32m   6297\u001b[0m         \u001b[0;34m)\u001b[0m\u001b[0;34m:\u001b[0m\u001b[0;34m\u001b[0m\u001b[0;34m\u001b[0m\u001b[0m\n\u001b[1;32m   6298\u001b[0m             \u001b[0;32mreturn\u001b[0m \u001b[0mself\u001b[0m\u001b[0;34m[\u001b[0m\u001b[0mname\u001b[0m\u001b[0;34m]\u001b[0m\u001b[0;34m\u001b[0m\u001b[0;34m\u001b[0m\u001b[0m\n\u001b[0;32m-> 6299\u001b[0;31m         \u001b[0;32mreturn\u001b[0m \u001b[0mobject\u001b[0m\u001b[0;34m.\u001b[0m\u001b[0m__getattribute__\u001b[0m\u001b[0;34m(\u001b[0m\u001b[0mself\u001b[0m\u001b[0;34m,\u001b[0m \u001b[0mname\u001b[0m\u001b[0;34m)\u001b[0m\u001b[0;34m\u001b[0m\u001b[0;34m\u001b[0m\u001b[0m\n\u001b[0m",
      "\u001b[0;31mAttributeError\u001b[0m: 'DataFrame' object has no attribute 'unique'"
     ]
    }
   ],
   "source": [
    "flights[[\"origin\"]].unique() # unique method can only be used for Series type of objects, not the data frame objects"
   ]
  },
  {
   "cell_type": "code",
   "execution_count": 25,
   "id": "43f964f6-ee68-40a7-88ef-23e8fb35fe8d",
   "metadata": {},
   "outputs": [
    {
     "data": {
      "text/plain": [
       "origin\n",
       "EWR    120835\n",
       "JFK    111279\n",
       "LGA    104662\n",
       "Name: count, dtype: int64"
      ]
     },
     "execution_count": 25,
     "metadata": {},
     "output_type": "execute_result"
    }
   ],
   "source": [
    "flights[\"origin\"].value_counts() # unique values with their frequency"
   ]
  },
  {
   "cell_type": "code",
   "execution_count": 27,
   "id": "e770d3d6-dec7-4437-8545-9f770c38014d",
   "metadata": {},
   "outputs": [
    {
     "data": {
      "text/plain": [
       "0         EWR\n",
       "1         LGA\n",
       "2         JFK\n",
       "3         JFK\n",
       "4         LGA\n",
       "         ... \n",
       "336771    JFK\n",
       "336772    LGA\n",
       "336773    LGA\n",
       "336774    LGA\n",
       "336775    LGA\n",
       "Name: origin, Length: 336776, dtype: object"
      ]
     },
     "execution_count": 27,
     "metadata": {},
     "output_type": "execute_result"
    }
   ],
   "source": [
    "# You can also access a column using dot(.)\n",
    "\n",
    "flights.origin  # same as flights[\"origin\"]"
   ]
  },
  {
   "cell_type": "code",
   "execution_count": 28,
   "id": "b7df9840-34e6-46fd-97ee-7f30f0f21739",
   "metadata": {},
   "outputs": [
    {
     "data": {
      "text/plain": [
       "origin\n",
       "EWR    120835\n",
       "JFK    111279\n",
       "LGA    104662\n",
       "Name: count, dtype: int64"
      ]
     },
     "execution_count": 28,
     "metadata": {},
     "output_type": "execute_result"
    }
   ],
   "source": [
    "flights.origin.value_counts()"
   ]
  },
  {
   "cell_type": "code",
   "execution_count": 30,
   "id": "06cfb24a-6b9e-448a-8ab9-f5ec06365f65",
   "metadata": {},
   "outputs": [],
   "source": [
    "# 2. Data Wrangling: cleaning, manipulating, and preprocessing your data"
   ]
  },
  {
   "cell_type": "code",
   "execution_count": 32,
   "id": "27ec907f-8027-4ba4-9aad-b9e146f19cab",
   "metadata": {},
   "outputs": [],
   "source": [
    "# For example:\n",
    "# - pick observations (rows) by their indices\n",
    "# - filter the dataset satisfying certain conditions\n",
    "# - reorder the rows\n",
    "# - pick variables by their names/indices\n",
    "# - make a summary table\n",
    "# ...etc"
   ]
  },
  {
   "cell_type": "code",
   "execution_count": 33,
   "id": "f2c4f88e-faef-47a4-868f-e40f851a8701",
   "metadata": {},
   "outputs": [
    {
     "data": {
      "text/plain": [
       "0         1\n",
       "1         1\n",
       "2         1\n",
       "3         1\n",
       "4         1\n",
       "         ..\n",
       "336771    9\n",
       "336772    9\n",
       "336773    9\n",
       "336774    9\n",
       "336775    9\n",
       "Name: month, Length: 336776, dtype: int64"
      ]
     },
     "execution_count": 33,
     "metadata": {},
     "output_type": "execute_result"
    }
   ],
   "source": [
    "flights[\"month\"]"
   ]
  },
  {
   "cell_type": "code",
   "execution_count": 34,
   "id": "aaacfa0f-e01b-438c-b0c8-3f68e8f008e3",
   "metadata": {},
   "outputs": [
    {
     "data": {
      "text/plain": [
       "array([ 1, 10, 11, 12,  2,  3,  4,  5,  6,  7,  8,  9])"
      ]
     },
     "execution_count": 34,
     "metadata": {},
     "output_type": "execute_result"
    }
   ],
   "source": [
    "flights[\"month\"].unique()"
   ]
  },
  {
   "cell_type": "code",
   "execution_count": 36,
   "id": "432df317-e577-4b73-9a88-79214944081a",
   "metadata": {},
   "outputs": [
    {
     "data": {
      "text/plain": [
       "0         False\n",
       "1         False\n",
       "2         False\n",
       "3         False\n",
       "4         False\n",
       "          ...  \n",
       "336771    False\n",
       "336772    False\n",
       "336773    False\n",
       "336774    False\n",
       "336775    False\n",
       "Name: month, Length: 336776, dtype: bool"
      ]
     },
     "execution_count": 36,
     "metadata": {},
     "output_type": "execute_result"
    }
   ],
   "source": [
    "# Q: How to filter the data set to include only flight data from July?\n",
    "\n",
    "flights[\"month\"] == 7 # compare the values from the lefthand side to the righthand side"
   ]
  },
  {
   "cell_type": "code",
   "execution_count": 37,
   "id": "0a9374c5-46e8-44aa-850a-949725ed40e4",
   "metadata": {},
   "outputs": [
    {
     "data": {
      "text/plain": [
       "month\n",
       "7     29425\n",
       "8     29327\n",
       "10    28889\n",
       "3     28834\n",
       "5     28796\n",
       "4     28330\n",
       "6     28243\n",
       "12    28135\n",
       "9     27574\n",
       "11    27268\n",
       "1     27004\n",
       "2     24951\n",
       "Name: count, dtype: int64"
      ]
     },
     "execution_count": 37,
     "metadata": {},
     "output_type": "execute_result"
    }
   ],
   "source": [
    "flights[\"month\"].value_counts()"
   ]
  },
  {
   "cell_type": "code",
   "execution_count": 39,
   "id": "d3b6e581-c5e2-4c22-88a8-15536c8ebc7e",
   "metadata": {},
   "outputs": [],
   "source": [
    "july_flights = flights[flights[\"month\"] == 7] # filter only rows with \"True\" values"
   ]
  },
  {
   "cell_type": "code",
   "execution_count": 41,
   "id": "f1aa661e-8031-449f-b49c-90a048f228d9",
   "metadata": {},
   "outputs": [
    {
     "data": {
      "text/plain": [
       "array([7])"
      ]
     },
     "execution_count": 41,
     "metadata": {},
     "output_type": "execute_result"
    }
   ],
   "source": [
    "# double check\n",
    "july_flights.month.unique()"
   ]
  },
  {
   "cell_type": "code",
   "execution_count": 44,
   "id": "6b59b216-9dcc-4396-acf9-f04cdf8ef04e",
   "metadata": {},
   "outputs": [],
   "source": [
    "# from there we can also focus on only a few variables\n",
    "\n",
    "july_flights_sml = july_flights[[\"dep_delay\", \"arr_delay\", \"origin\"]]"
   ]
  },
  {
   "cell_type": "code",
   "execution_count": 45,
   "id": "19269ec8-ad15-4636-82cb-1cea5b9571f6",
   "metadata": {},
   "outputs": [
    {
     "data": {
      "text/html": [
       "<div>\n",
       "<style scoped>\n",
       "    .dataframe tbody tr th:only-of-type {\n",
       "        vertical-align: middle;\n",
       "    }\n",
       "\n",
       "    .dataframe tbody tr th {\n",
       "        vertical-align: top;\n",
       "    }\n",
       "\n",
       "    .dataframe thead th {\n",
       "        text-align: right;\n",
       "    }\n",
       "</style>\n",
       "<table border=\"1\" class=\"dataframe\">\n",
       "  <thead>\n",
       "    <tr style=\"text-align: right;\">\n",
       "      <th></th>\n",
       "      <th>dep_delay</th>\n",
       "      <th>arr_delay</th>\n",
       "      <th>origin</th>\n",
       "    </tr>\n",
       "  </thead>\n",
       "  <tbody>\n",
       "    <tr>\n",
       "      <th>250450</th>\n",
       "      <td>212.0</td>\n",
       "      <td>157.0</td>\n",
       "      <td>JFK</td>\n",
       "    </tr>\n",
       "    <tr>\n",
       "      <th>250451</th>\n",
       "      <td>3.0</td>\n",
       "      <td>0.0</td>\n",
       "      <td>JFK</td>\n",
       "    </tr>\n",
       "    <tr>\n",
       "      <th>250452</th>\n",
       "      <td>104.0</td>\n",
       "      <td>110.0</td>\n",
       "      <td>JFK</td>\n",
       "    </tr>\n",
       "    <tr>\n",
       "      <th>250453</th>\n",
       "      <td>193.0</td>\n",
       "      <td>188.0</td>\n",
       "      <td>LGA</td>\n",
       "    </tr>\n",
       "    <tr>\n",
       "      <th>250454</th>\n",
       "      <td>174.0</td>\n",
       "      <td>120.0</td>\n",
       "      <td>JFK</td>\n",
       "    </tr>\n",
       "  </tbody>\n",
       "</table>\n",
       "</div>"
      ],
      "text/plain": [
       "        dep_delay  arr_delay origin\n",
       "250450      212.0      157.0    JFK\n",
       "250451        3.0        0.0    JFK\n",
       "250452      104.0      110.0    JFK\n",
       "250453      193.0      188.0    LGA\n",
       "250454      174.0      120.0    JFK"
      ]
     },
     "execution_count": 45,
     "metadata": {},
     "output_type": "execute_result"
    }
   ],
   "source": [
    "july_flights_sml.head()"
   ]
  },
  {
   "cell_type": "code",
   "execution_count": 46,
   "id": "cb76dafa-63a8-4324-9229-329aef676a40",
   "metadata": {},
   "outputs": [
    {
     "data": {
      "text/html": [
       "<div>\n",
       "<style scoped>\n",
       "    .dataframe tbody tr th:only-of-type {\n",
       "        vertical-align: middle;\n",
       "    }\n",
       "\n",
       "    .dataframe tbody tr th {\n",
       "        vertical-align: top;\n",
       "    }\n",
       "\n",
       "    .dataframe thead th {\n",
       "        text-align: right;\n",
       "    }\n",
       "</style>\n",
       "<table border=\"1\" class=\"dataframe\">\n",
       "  <thead>\n",
       "    <tr style=\"text-align: right;\">\n",
       "      <th></th>\n",
       "      <th>dep_delay_mean</th>\n",
       "      <th>dep_delay_std</th>\n",
       "    </tr>\n",
       "    <tr>\n",
       "      <th>origin</th>\n",
       "      <th></th>\n",
       "      <th></th>\n",
       "    </tr>\n",
       "  </thead>\n",
       "  <tbody>\n",
       "    <tr>\n",
       "      <th>EWR</th>\n",
       "      <td>22.035112</td>\n",
       "      <td>49.505915</td>\n",
       "    </tr>\n",
       "    <tr>\n",
       "      <th>JFK</th>\n",
       "      <td>23.769262</td>\n",
       "      <td>53.287222</td>\n",
       "    </tr>\n",
       "    <tr>\n",
       "      <th>LGA</th>\n",
       "      <td>18.995163</td>\n",
       "      <td>52.020963</td>\n",
       "    </tr>\n",
       "  </tbody>\n",
       "</table>\n",
       "</div>"
      ],
      "text/plain": [
       "        dep_delay_mean  dep_delay_std\n",
       "origin                               \n",
       "EWR          22.035112      49.505915\n",
       "JFK          23.769262      53.287222\n",
       "LGA          18.995163      52.020963"
      ]
     },
     "execution_count": 46,
     "metadata": {},
     "output_type": "execute_result"
    }
   ],
   "source": [
    "# Q: calculate average and standard deviation of departure delay in July by origin\n",
    "\n",
    "july_flights_sml.groupby('origin').agg(\n",
    "    dep_delay_mean = ('dep_delay' , 'mean'),\n",
    "    dep_delay_std = ('dep_delay', 'std')\n",
    ")"
   ]
  },
  {
   "cell_type": "code",
   "execution_count": 47,
   "id": "cb7c9197-a513-41e3-b36c-5710758b1fe0",
   "metadata": {},
   "outputs": [
    {
     "data": {
      "text/html": [
       "<div>\n",
       "<style scoped>\n",
       "    .dataframe tbody tr th:only-of-type {\n",
       "        vertical-align: middle;\n",
       "    }\n",
       "\n",
       "    .dataframe tbody tr th {\n",
       "        vertical-align: top;\n",
       "    }\n",
       "\n",
       "    .dataframe thead th {\n",
       "        text-align: right;\n",
       "    }\n",
       "</style>\n",
       "<table border=\"1\" class=\"dataframe\">\n",
       "  <thead>\n",
       "    <tr style=\"text-align: right;\">\n",
       "      <th></th>\n",
       "      <th>dep_delay</th>\n",
       "    </tr>\n",
       "  </thead>\n",
       "  <tbody>\n",
       "    <tr>\n",
       "      <th>dep_delay_mean</th>\n",
       "      <td>21.727787</td>\n",
       "    </tr>\n",
       "    <tr>\n",
       "      <th>dep_delay_std</th>\n",
       "      <td>51.616076</td>\n",
       "    </tr>\n",
       "  </tbody>\n",
       "</table>\n",
       "</div>"
      ],
      "text/plain": [
       "                dep_delay\n",
       "dep_delay_mean  21.727787\n",
       "dep_delay_std   51.616076"
      ]
     },
     "execution_count": 47,
     "metadata": {},
     "output_type": "execute_result"
    }
   ],
   "source": [
    "# without grouping\n",
    "july_flights_sml.agg(\n",
    "    dep_delay_mean = ('dep_delay' , 'mean'),\n",
    "    dep_delay_std = ('dep_delay', 'std')\n",
    ")"
   ]
  },
  {
   "cell_type": "code",
   "execution_count": 49,
   "id": "8d09b279-492f-40bd-a3c9-a90b0cb3d879",
   "metadata": {},
   "outputs": [],
   "source": [
    "# 3. Visualization\n",
    "# matplotlib / seaborn packages"
   ]
  },
  {
   "cell_type": "code",
   "execution_count": 61,
   "id": "ac66b13a-ae0b-416e-b4b5-1bf7967ff1fa",
   "metadata": {},
   "outputs": [
    {
     "data": {
      "text/plain": [
       "<matplotlib.lines.Line2D at 0x7f3f82aacdd0>"
      ]
     },
     "execution_count": 61,
     "metadata": {},
     "output_type": "execute_result"
    },
    {
     "data": {
      "image/png": "[encoded data removed]",
      "text/plain": [
       "<Figure size 640x480 with 1 Axes>"
      ]
     },
     "metadata": {},
     "output_type": "display_data"
    }
   ],
   "source": [
    "# Q: Any meaningful relationship between air time and arrival delay for flights from July 4th?\n",
    "\n",
    "# filtering the july flights to july 4th\n",
    "july4_flights = july_flights[july_flights['day'] == 4]\n",
    "\n",
    "# create a scatter plot\n",
    "plt.scatter(july4_flights['air_time'], july4_flights['arr_delay']) # choose variables for x and y axis\n",
    "\n",
    "# we can add axis labels as well\n",
    "plt.xlabel('Air Time') # add label on the x axis \n",
    "plt.ylabel('Arrival Delay') # add label on y axis\n",
    "\n",
    "# add a horizonal line \n",
    "plt.axhline(y = 0.0, color = 'black', linestyle = \"--\") # \"-\" for a solid line"
   ]
  },
  {
   "cell_type": "code",
   "execution_count": 80,
   "id": "10290bee-547b-43a8-8790-93f0751a86cb",
   "metadata": {},
   "outputs": [
    {
     "data": {
      "text/plain": [
       "Text(0.5, 1.0, 'Departure Delay for Flights from July 4th')"
      ]
     },
     "execution_count": 80,
     "metadata": {},
     "output_type": "execute_result"
    },
    {
     "data": {
      "image/png": "[encoded data removed]",
      "text/plain": [
       "<Figure size 640x480 with 1 Axes>"
      ]
     },
     "metadata": {},
     "output_type": "display_data"
    }
   ],
   "source": [
    "# Boxplot: shows distribution of quantatative data\n",
    "\n",
    "sns.boxplot(data = july4_flights, y = 'dep_delay')\n",
    "plt.title(\"Departure Delay for Flights from July 4th\") # adding a title"
   ]
  },
  {
   "cell_type": "code",
   "execution_count": 65,
   "id": "6eb4d57c-9549-4c80-a808-463da5438bfa",
   "metadata": {},
   "outputs": [
    {
     "data": {
      "text/plain": [
       "Text(0.5, 1.0, 'Departure Delay for Flights by Each Origin from July 4th')"
      ]
     },
     "execution_count": 65,
     "metadata": {},
     "output_type": "execute_result"
    },
    {
     "data": {
      "image/png": "[encoded data removed]",
      "text/plain": [
       "<Figure size 640x480 with 1 Axes>"
      ]
     },
     "metadata": {},
     "output_type": "display_data"
    }
   ],
   "source": [
    "# boxplot of departure delay for each origin airport\n",
    "\n",
    "sns.boxplot(data = july4_flights, x = 'origin', y = 'dep_delay')\n",
    "plt.title(\"Departure Delay for Flights by Each Origin from July 4th\") # adding a title"
   ]
  },
  {
   "cell_type": "code",
   "execution_count": 66,
   "id": "95611341-62fb-4503-b32f-12aa8005908c",
   "metadata": {},
   "outputs": [],
   "source": [
    "# 4. Modeling"
   ]
  },
  {
   "cell_type": "code",
   "execution_count": 67,
   "id": "9d1ad2f8-d30e-4600-83c3-b3fde44b2509",
   "metadata": {},
   "outputs": [],
   "source": [
    "# Classification: identifying which category an object belongs to\n",
    "# Regression: identifying association among continuous-valued variables\n",
    "# Clustering: automatic grouping of similar objects into sets\n",
    "# Dimension reduction, model selection, preprocessing..."
   ]
  },
  {
   "cell_type": "code",
   "execution_count": 68,
   "id": "55ca5a37-fb4c-4a6f-8d9e-c21fa53de47e",
   "metadata": {},
   "outputs": [],
   "source": [
    "# For today, we do basic linear regression!"
   ]
  },
  {
   "cell_type": "code",
   "execution_count": 72,
   "id": "ba5b77ec-99a3-4ad3-b1fa-f2630f1e59b4",
   "metadata": {},
   "outputs": [
    {
     "data": {
      "text/plain": [
       "<matplotlib.collections.PathCollection at 0x7f3f842170e0>"
      ]
     },
     "execution_count": 72,
     "metadata": {},
     "output_type": "execute_result"
    },
    {
     "data": {
      "image/png": "[encoded data removed]",
      "text/plain": [
       "<Figure size 640x480 with 1 Axes>"
      ]
     },
     "metadata": {},
     "output_type": "display_data"
    }
   ],
   "source": [
    "# Assumption: we miht find some linear relationship between departure delay and arrival delay\n",
    "\n",
    "plt.scatter(x = july4_flights['dep_delay'], y = july4_flights['arr_delay'])"
   ]
  },
  {
   "cell_type": "code",
   "execution_count": 76,
   "id": "c2645c29-b201-4d6d-bfdf-4686a93d136e",
   "metadata": {},
   "outputs": [],
   "source": [
    "# maybe we can trype conduction linear regression between these two variables!\n",
    "\n",
    "model = ols('arr_delay ~ dep_delay', data = july4_flights).fit() # fit gives optimal line between two variables"
   ]
  },
  {
   "cell_type": "code",
   "execution_count": 77,
   "id": "861a2800-09a4-4ec1-823e-18fb2dd8abf6",
   "metadata": {},
   "outputs": [
    {
     "data": {
      "text/html": [
       "<table class=\"simpletable\">\n",
       "<caption>OLS Regression Results</caption>\n",
       "<tr>\n",
       "  <th>Dep. Variable:</th>        <td>arr_delay</td>    <th>  R-squared:         </th> <td>   0.700</td> \n",
       "</tr>\n",
       "<tr>\n",
       "  <th>Model:</th>                   <td>OLS</td>       <th>  Adj. R-squared:    </th> <td>   0.700</td> \n",
       "</tr>\n",
       "<tr>\n",
       "  <th>Method:</th>             <td>Least Squares</td>  <th>  F-statistic:       </th> <td>   1707.</td> \n",
       "</tr>\n",
       "<tr>\n",
       "  <th>Date:</th>             <td>Wed, 05 Feb 2025</td> <th>  Prob (F-statistic):</th> <td>2.27e-193</td>\n",
       "</tr>\n",
       "<tr>\n",
       "  <th>Time:</th>                 <td>16:39:26</td>     <th>  Log-Likelihood:    </th> <td> -2962.3</td> \n",
       "</tr>\n",
       "<tr>\n",
       "  <th>No. Observations:</th>      <td>   733</td>      <th>  AIC:               </th> <td>   5929.</td> \n",
       "</tr>\n",
       "<tr>\n",
       "  <th>Df Residuals:</th>          <td>   731</td>      <th>  BIC:               </th> <td>   5938.</td> \n",
       "</tr>\n",
       "<tr>\n",
       "  <th>Df Model:</th>              <td>     1</td>      <th>                     </th>     <td> </td>    \n",
       "</tr>\n",
       "<tr>\n",
       "  <th>Covariance Type:</th>      <td>nonrobust</td>    <th>                     </th>     <td> </td>    \n",
       "</tr>\n",
       "</table>\n",
       "<table class=\"simpletable\">\n",
       "<tr>\n",
       "      <td></td>         <th>coef</th>     <th>std err</th>      <th>t</th>      <th>P>|t|</th>  <th>[0.025</th>    <th>0.975]</th>  \n",
       "</tr>\n",
       "<tr>\n",
       "  <th>Intercept</th> <td>  -16.3737</td> <td>    0.520</td> <td>  -31.511</td> <td> 0.000</td> <td>  -17.394</td> <td>  -15.354</td>\n",
       "</tr>\n",
       "<tr>\n",
       "  <th>dep_delay</th> <td>    0.9834</td> <td>    0.024</td> <td>   41.314</td> <td> 0.000</td> <td>    0.937</td> <td>    1.030</td>\n",
       "</tr>\n",
       "</table>\n",
       "<table class=\"simpletable\">\n",
       "<tr>\n",
       "  <th>Omnibus:</th>       <td> 3.900</td> <th>  Durbin-Watson:     </th> <td>   1.814</td>\n",
       "</tr>\n",
       "<tr>\n",
       "  <th>Prob(Omnibus):</th> <td> 0.142</td> <th>  Jarque-Bera (JB):  </th> <td>   4.578</td>\n",
       "</tr>\n",
       "<tr>\n",
       "  <th>Skew:</th>          <td>-0.027</td> <th>  Prob(JB):          </th> <td>   0.101</td>\n",
       "</tr>\n",
       "<tr>\n",
       "  <th>Kurtosis:</th>      <td> 3.383</td> <th>  Cond. No.          </th> <td>    22.3</td>\n",
       "</tr>\n",
       "</table><br/><br/>Notes:<br/>[1] Standard Errors assume that the covariance matrix of the errors is correctly specified."
      ],
      "text/latex": [
       "\\begin{center}\n",
       "\\begin{tabular}{lclc}\n",
       "\\toprule\n",
       "\\textbf{Dep. Variable:}    &    arr\\_delay    & \\textbf{  R-squared:         } &     0.700   \\\\\n",
       "\\textbf{Model:}            &       OLS        & \\textbf{  Adj. R-squared:    } &     0.700   \\\\\n",
       "\\textbf{Method:}           &  Least Squares   & \\textbf{  F-statistic:       } &     1707.   \\\\\n",
       "\\textbf{Date:}             & Wed, 05 Feb 2025 & \\textbf{  Prob (F-statistic):} & 2.27e-193   \\\\\n",
       "\\textbf{Time:}             &     16:39:26     & \\textbf{  Log-Likelihood:    } &   -2962.3   \\\\\n",
       "\\textbf{No. Observations:} &         733      & \\textbf{  AIC:               } &     5929.   \\\\\n",
       "\\textbf{Df Residuals:}     &         731      & \\textbf{  BIC:               } &     5938.   \\\\\n",
       "\\textbf{Df Model:}         &           1      & \\textbf{                     } &             \\\\\n",
       "\\textbf{Covariance Type:}  &    nonrobust     & \\textbf{                     } &             \\\\\n",
       "\\bottomrule\n",
       "\\end{tabular}\n",
       "\\begin{tabular}{lcccccc}\n",
       "                    & \\textbf{coef} & \\textbf{std err} & \\textbf{t} & \\textbf{P$> |$t$|$} & \\textbf{[0.025} & \\textbf{0.975]}  \\\\\n",
       "\\midrule\n",
       "\\textbf{Intercept}  &     -16.3737  &        0.520     &   -31.511  &         0.000        &      -17.394    &      -15.354     \\\\\n",
       "\\textbf{dep\\_delay} &       0.9834  &        0.024     &    41.314  &         0.000        &        0.937    &        1.030     \\\\\n",
       "\\bottomrule\n",
       "\\end{tabular}\n",
       "\\begin{tabular}{lclc}\n",
       "\\textbf{Omnibus:}       &  3.900 & \\textbf{  Durbin-Watson:     } &    1.814  \\\\\n",
       "\\textbf{Prob(Omnibus):} &  0.142 & \\textbf{  Jarque-Bera (JB):  } &    4.578  \\\\\n",
       "\\textbf{Skew:}          & -0.027 & \\textbf{  Prob(JB):          } &    0.101  \\\\\n",
       "\\textbf{Kurtosis:}      &  3.383 & \\textbf{  Cond. No.          } &     22.3  \\\\\n",
       "\\bottomrule\n",
       "\\end{tabular}\n",
       "%\\caption{OLS Regression Results}\n",
       "\\end{center}\n",
       "\n",
       "Notes: \\newline\n",
       " [1] Standard Errors assume that the covariance matrix of the errors is correctly specified."
      ],
      "text/plain": [
       "<class 'statsmodels.iolib.summary.Summary'>\n",
       "\"\"\"\n",
       "                            OLS Regression Results                            \n",
       "==============================================================================\n",
       "Dep. Variable:              arr_delay   R-squared:                       0.700\n",
       "Model:                            OLS   Adj. R-squared:                  0.700\n",
       "Method:                 Least Squares   F-statistic:                     1707.\n",
       "Date:                Wed, 05 Feb 2025   Prob (F-statistic):          2.27e-193\n",
       "Time:                        16:39:26   Log-Likelihood:                -2962.3\n",
       "No. Observations:                 733   AIC:                             5929.\n",
       "Df Residuals:                     731   BIC:                             5938.\n",
       "Df Model:                           1                                         \n",
       "Covariance Type:            nonrobust                                         \n",
       "==============================================================================\n",
       "                 coef    std err          t      P>|t|      [0.025      0.975]\n",
       "------------------------------------------------------------------------------\n",
       "Intercept    -16.3737      0.520    -31.511      0.000     -17.394     -15.354\n",
       "dep_delay      0.9834      0.024     41.314      0.000       0.937       1.030\n",
       "==============================================================================\n",
       "Omnibus:                        3.900   Durbin-Watson:                   1.814\n",
       "Prob(Omnibus):                  0.142   Jarque-Bera (JB):                4.578\n",
       "Skew:                          -0.027   Prob(JB):                        0.101\n",
       "Kurtosis:                       3.383   Cond. No.                         22.3\n",
       "==============================================================================\n",
       "\n",
       "Notes:\n",
       "[1] Standard Errors assume that the covariance matrix of the errors is correctly specified.\n",
       "\"\"\""
      ]
     },
     "execution_count": 77,
     "metadata": {},
     "output_type": "execute_result"
    }
   ],
   "source": [
    "model.summary()"
   ]
  },
  {
   "cell_type": "code",
   "execution_count": 79,
   "id": "11c2938f-8546-4838-833f-007853d36b7b",
   "metadata": {},
   "outputs": [
    {
     "data": {
      "text/plain": [
       "<Axes: xlabel='dep_delay', ylabel='arr_delay'>"
      ]
     },
     "execution_count": 79,
     "metadata": {},
     "output_type": "execute_result"
    },
    {
     "data": {
      "image/png": "[encoded data removed]",
      "text/plain": [
       "<Figure size 640x480 with 1 Axes>"
      ]
     },
     "metadata": {},
     "output_type": "display_data"
    }
   ],
   "source": [
    "# We can even draw this \"best linear line\" explaining the relationship between the two variables\n",
    "\n",
    "sns.regplot(x = 'dep_delay', y = 'arr_delay', data = july4_flights, scatter = True)"
   ]
  },
  {
   "cell_type": "code",
   "execution_count": null,
   "id": "602cd37f-c948-421a-a8b5-36684203133f",
   "metadata": {},
   "outputs": [],
   "source": []
  }
 ],
 "metadata": {
  "kernelspec": {
   "display_name": "Python 3 (ipykernel)",
   "language": "python",
   "name": "python3"
  },
  "language_info": {
   "codemirror_mode": {
    "name": "ipython",
    "version": 3
   },
   "file_extension": ".py",
   "mimetype": "text/x-python",
   "name": "python",
   "nbconvert_exporter": "python",
   "pygments_lexer": "ipython3",
   "version": "3.12.8"
  }
 },
 "nbformat": 4,
 "nbformat_minor": 5
}
